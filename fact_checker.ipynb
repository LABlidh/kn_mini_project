{
 "cells": [
  {
   "cell_type": "markdown",
   "id": "119dc8ae-6463-4a83-a350-64698f5d5ee4",
   "metadata": {},
   "source": [
    "## Parse the .nt Files "
   ]
  },
  {
   "cell_type": "code",
   "execution_count": 1,
   "id": "c6a946b3-26fc-4cef-8e75-719287653a21",
   "metadata": {
    "scrolled": true
   },
   "outputs": [
    {
     "name": "stdout",
     "output_type": "stream",
     "text": [
      "Sample triples:\n",
      "[('http://dice-research.org/data/fb15k-237.ttl#727',\n",
      "  'http://www.w3.org/1999/02/22-rdf-syntax-ns#type',\n",
      "  'http://www.w3.org/1999/02/22-rdf-syntax-ns#Statement'),\n",
      " ('http://dice-research.org/data/fb15k-237.ttl#1221',\n",
      "  'http://swc2017.aksw.org/hasTruthValue',\n",
      "  '0.0'),\n",
      " ('http://dice-research.org/data/fb15k-237.ttl#1488',\n",
      "  'http://swc2017.aksw.org/hasTruthValue',\n",
      "  '0.0'),\n",
      " ('http://dice-research.org/data/fb15k-237.ttl#191',\n",
      "  'http://www.w3.org/1999/02/22-rdf-syntax-ns#predicate',\n",
      "  'http://rdf.freebase.com/ns/music.record_label.artist'),\n",
      " ('http://dice-research.org/data/fb15k-237.ttl#1214',\n",
      "  'http://www.w3.org/1999/02/22-rdf-syntax-ns#object',\n",
      "  'http://rdf.freebase.com/ns/m.01wbgdv')]\n"
     ]
    }
   ],
   "source": [
    "from rdflib import Graph\n",
    "import pprint\n",
    "\n",
    "# Load training data\n",
    "train_graph = Graph()\n",
    "train_graph.parse(\"data/fokg-sw-train-2024.nt\", format=\"nt\")\n",
    "\n",
    "#Load test data\n",
    "test_graph = Graph()\n",
    "test_graph.parse(\"data/fokg-sw-test-2024.nt\", format=\"nt\")\n",
    "\n",
    "#Append data\n",
    "graph = train_graph + test_graph\n",
    "\n",
    "#Extract triples\n",
    "triples = []\n",
    "for subj, pred, obj in graph:\n",
    "    triples.append((str(subj), str(pred), str(obj)))\n",
    "\n",
    "print(\"Sample triples:\")\n",
    "pprint.pprint(triples[:5])"
   ]
  },
  {
   "cell_type": "markdown",
   "id": "00a670f8-6ebf-4c8b-8d52-ac2a0b42502d",
   "metadata": {},
   "source": [
    "## Encode the Triples"
   ]
  },
  {
   "cell_type": "code",
   "execution_count": 2,
   "id": "32ca635b-c2f9-469a-a4b8-e84e3785e579",
   "metadata": {
    "scrolled": true
   },
   "outputs": [
    {
     "name": "stdout",
     "output_type": "stream",
     "text": [
      "Encoded triples:\n",
      "[(1200, 4, 3673), (251, 0, 0), (546, 0, 0), (605, 2, 3648), (243, 1, 1989)]\n"
     ]
    }
   ],
   "source": [
    "from sklearn.preprocessing import LabelEncoder\n",
    "\n",
    "#Flatten\n",
    "entities = [t[0] for t in triples] + [t[2] for t in triples]\n",
    "predicates = [t[1] for t in triples]\n",
    "\n",
    "\n",
    "entity_encoder = LabelEncoder()\n",
    "predicate_encoder = LabelEncoder()\n",
    "\n",
    "encoded_entities = entity_encoder.fit_transform(entities)\n",
    "encoded_predicates = predicate_encoder.fit_transform(predicates)\n",
    "\n",
    "encoded_triples = [\n",
    "    (encoded_entities[i], encoded_predicates[i], encoded_entities[len(triples) + i])\n",
    "    for i in range(len(triples))\n",
    "]\n",
    "\n",
    "print(\"Encoded triples:\")\n",
    "pprint.pprint(encoded_triples[:5])"
   ]
  },
  {
   "cell_type": "code",
   "execution_count": 3,
   "id": "922d7732-81a4-45be-86ee-23f9939cd169",
   "metadata": {},
   "outputs": [
    {
     "name": "stdout",
     "output_type": "stream",
     "text": [
      "Encoded Train triples:\n",
      "[(1200, 4, 3673), (251, 0, 0), (546, 0, 0), (826, 2, 1545), (867, 2, 3661)]\n",
      "Encoded Test triples:\n",
      "[(954, 4, 3673), (818, 3, 2701), (445, 4, 3673), (540, 3, 1563), (605, 2, 3648)]\n"
     ]
    }
   ],
   "source": [
    "#Index train, test sets \n",
    "train_idx = [(entity_encoder.transform([s])[0], predicate_encoder.transform([p])[0], entity_encoder.transform([o])[0]) for s,p,o in train_graph]\n",
    "test_idx = [(entity_encoder.transform([s])[0], predicate_encoder.transform([p])[0], entity_encoder.transform([o])[0]) for s,p,o in test_graph]\n",
    "\n",
    "print(\"Encoded Train triples:\")\n",
    "pprint.pprint(train_idx[:5])\n",
    "print(\"Encoded Test triples:\")\n",
    "pprint.pprint(test_idx[:5])"
   ]
  },
  {
   "cell_type": "markdown",
   "id": "fbd1a322-bb76-416a-8170-1e6a51dd7cd9",
   "metadata": {},
   "source": [
    "## Validate the Encoding"
   ]
  },
  {
   "cell_type": "code",
   "execution_count": 4,
   "id": "64fc1939-1e29-4afe-978c-e7a7f9c39216",
   "metadata": {
    "editable": true,
    "scrolled": true,
    "slideshow": {
     "slide_type": ""
    },
    "tags": []
   },
   "outputs": [
    {
     "name": "stdout",
     "output_type": "stream",
     "text": [
      "Original: ('http://dice-research.org/data/fb15k-237.ttl#727', 'http://www.w3.org/1999/02/22-rdf-syntax-ns#type', 'http://www.w3.org/1999/02/22-rdf-syntax-ns#Statement')\n",
      "Decoded: ('http://dice-research.org/data/fb15k-237.ttl#727', 'http://www.w3.org/1999/02/22-rdf-syntax-ns#type', 'http://www.w3.org/1999/02/22-rdf-syntax-ns#Statement')\n",
      "--------\n",
      "Original: ('http://dice-research.org/data/fb15k-237.ttl#1221', 'http://swc2017.aksw.org/hasTruthValue', '0.0')\n",
      "Decoded: ('http://dice-research.org/data/fb15k-237.ttl#1221', 'http://swc2017.aksw.org/hasTruthValue', '0.0')\n",
      "--------\n",
      "Original: ('http://dice-research.org/data/fb15k-237.ttl#1488', 'http://swc2017.aksw.org/hasTruthValue', '0.0')\n",
      "Decoded: ('http://dice-research.org/data/fb15k-237.ttl#1488', 'http://swc2017.aksw.org/hasTruthValue', '0.0')\n",
      "--------\n",
      "Original: ('http://dice-research.org/data/fb15k-237.ttl#191', 'http://www.w3.org/1999/02/22-rdf-syntax-ns#predicate', 'http://rdf.freebase.com/ns/music.record_label.artist')\n",
      "Decoded: ('http://dice-research.org/data/fb15k-237.ttl#191', 'http://www.w3.org/1999/02/22-rdf-syntax-ns#predicate', 'http://rdf.freebase.com/ns/music.record_label.artist')\n",
      "--------\n",
      "Original: ('http://dice-research.org/data/fb15k-237.ttl#1214', 'http://www.w3.org/1999/02/22-rdf-syntax-ns#object', 'http://rdf.freebase.com/ns/m.01wbgdv')\n",
      "Decoded: ('http://dice-research.org/data/fb15k-237.ttl#1214', 'http://www.w3.org/1999/02/22-rdf-syntax-ns#object', 'http://rdf.freebase.com/ns/m.01wbgdv')\n",
      "--------\n"
     ]
    }
   ],
   "source": [
    "decoded_triples = [\n",
    "    (\n",
    "        entity_encoder.inverse_transform([encoded_triples[i][0]])[0],\n",
    "        predicate_encoder.inverse_transform([encoded_triples[i][1]])[0],\n",
    "        entity_encoder.inverse_transform([encoded_triples[i][2]])[0]\n",
    "    )\n",
    "    for i in range(len(encoded_triples))\n",
    "]\n",
    "\n",
    "for i in range(5):\n",
    "    print(\"Original:\", triples[i])\n",
    "    print(\"Decoded:\", decoded_triples[i])\n",
    "    print(\"--------\")"
   ]
  },
  {
   "cell_type": "code",
   "execution_count": 5,
   "id": "e7d951e2-b4b0-4bb8-9269-afd8a00309e2",
   "metadata": {},
   "outputs": [
    {
     "name": "stdout",
     "output_type": "stream",
     "text": [
      "Encoded: (1200, 4, 3673)\n",
      "Decoded: ('http://dice-research.org/data/fb15k-237.ttl#727', 'http://www.w3.org/1999/02/22-rdf-syntax-ns#type', 'http://www.w3.org/1999/02/22-rdf-syntax-ns#Statement')\n",
      "--------\n",
      "Encoded: (251, 0, 0)\n",
      "Decoded: ('http://dice-research.org/data/fb15k-237.ttl#1221', 'http://swc2017.aksw.org/hasTruthValue', '0.0')\n",
      "--------\n",
      "Encoded: (546, 0, 0)\n",
      "Decoded: ('http://dice-research.org/data/fb15k-237.ttl#1488', 'http://swc2017.aksw.org/hasTruthValue', '0.0')\n",
      "--------\n",
      "Encoded: (826, 2, 1545)\n",
      "Decoded: ('http://dice-research.org/data/fb15k-237.ttl#390', 'http://www.w3.org/1999/02/22-rdf-syntax-ns#predicate', 'http://rdf.freebase.com/ns/location.location.contains')\n",
      "--------\n",
      "Encoded: (867, 2, 3661)\n",
      "Decoded: ('http://dice-research.org/data/fb15k-237.ttl#427', 'http://www.w3.org/1999/02/22-rdf-syntax-ns#predicate', 'http://rdf.freebase.com/ns/people.person.profession')\n",
      "--------\n"
     ]
    }
   ],
   "source": [
    "decoded_train_triples = [\n",
    "    (\n",
    "        entity_encoder.inverse_transform([train_idx[i][0]])[0],\n",
    "        predicate_encoder.inverse_transform([train_idx[i][1]])[0],\n",
    "        entity_encoder.inverse_transform([train_idx[i][2]])[0]\n",
    "    )\n",
    "    for i in range(len(train_idx))\n",
    "]\n",
    "\n",
    "for i in range(5):\n",
    "    print(\"Encoded:\", train_idx[i])\n",
    "    print(\"Decoded:\", decoded_train_triples[i])\n",
    "    print(\"--------\")"
   ]
  },
  {
   "cell_type": "markdown",
   "id": "5e7b7c6f-3eb5-429d-96a7-e9713d0218b3",
   "metadata": {},
   "source": [
    "## Prepare TensorFlow Data"
   ]
  },
  {
   "cell_type": "code",
   "execution_count": 11,
   "id": "c94c3afd-474e-4cca-bbbe-951226242a77",
   "metadata": {
    "editable": true,
    "scrolled": true,
    "slideshow": {
     "slide_type": ""
    },
    "tags": []
   },
   "outputs": [
    {
     "name": "stdout",
     "output_type": "stream",
     "text": [
      "0 1 2 3 4\n",
      "X :  (1000, 4, 3)\n",
      "Y :  (1000, 1, 3)\n",
      "array([[[1200,    4, 3673],\n",
      "        [1200,    3, 2303],\n",
      "        [1200,    1, 2529],\n",
      "        [1200,    2, 3659]],\n",
      "\n",
      "       [[ 826,    2, 1545],\n",
      "        [ 826,    3, 2226],\n",
      "        [ 826,    1, 2531],\n",
      "        [ 826,    4, 3673]],\n",
      "\n",
      "       [[ 867,    2, 3661],\n",
      "        [ 867,    4, 3673],\n",
      "        [ 867,    3, 3210],\n",
      "        [ 867,    1, 3266]],\n",
      "\n",
      "       [[ 988,    2, 3644],\n",
      "        [ 988,    3, 2854],\n",
      "        [ 988,    1, 1823],\n",
      "        [ 988,    4, 3673]],\n",
      "\n",
      "       [[ 243,    1, 1989],\n",
      "        [ 243,    2, 3656],\n",
      "        [ 243,    4, 3673],\n",
      "        [ 243,    3, 2972]]])\n"
     ]
    }
   ],
   "source": [
    "import numpy as np\n",
    "from sklearn.model_selection import train_test_split\n",
    "from rdflib import URIRef\n",
    "\n",
    "# Define constants for predicates\n",
    "TRUTH_VALUE_PREDICATE = predicate_encoder.transform([str(URIRef(\"http://swc2017.aksw.org/hasTruthValue\"))])[0]\n",
    "OBJECT_PREDICATE = predicate_encoder.transform([str(URIRef(\"http://www.w3.org/1999/02/22-rdf-syntax-ns#object\"))])[0]\n",
    "PREDICATE_PREDICATE = predicate_encoder.transform([str(URIRef(\"http://www.w3.org/1999/02/22-rdf-syntax-ns#predicate\"))])[0]\n",
    "SUBJECT_PREDICATE = predicate_encoder.transform([str(URIRef(\"http://www.w3.org/1999/02/22-rdf-syntax-ns#subject\"))])[0]\n",
    "TYPE_PREDICATE = predicate_encoder.transform([str(URIRef(\"http://www.w3.org/1999/02/22-rdf-syntax-ns#type\"))])[0]\n",
    "\n",
    "print(TRUTH_VALUE_PREDICATE, OBJECT_PREDICATE, PREDICATE_PREDICATE, SUBJECT_PREDICATE, TYPE_PREDICATE) #checking the encoded value\n",
    "\n",
    "# Convert triples to a NumPy array\n",
    "train_data = np.array(train_idx)\n",
    "\n",
    "# Initialize dictionaries for X (type, subject, predicate, object) and Y (hasTruthValue)\n",
    "facts = {}  # Key: Fact IRI, Value: List of triples for the fact\n",
    "veracity_values = {}  # Key: Fact IRI, Value: Veracity value\n",
    "\n",
    "# Populate facts and veracity values\n",
    "for fact_iri, predicate, obj in train_idx:\n",
    "    #print(fact_iri, predicate, obj)\n",
    "    if predicate in [TYPE_PREDICATE, SUBJECT_PREDICATE, PREDICATE_PREDICATE, OBJECT_PREDICATE]:\n",
    "        facts.setdefault(fact_iri, []).append((fact_iri, predicate, obj))\n",
    "    elif predicate == TRUTH_VALUE_PREDICATE:\n",
    "        veracity_values.setdefault(fact_iri, []).append((fact_iri, predicate, obj))\n",
    "\n",
    "# X -> facts; Y -> veracity_values\n",
    "X,Y = [],[]\n",
    "for key, value in facts.items():\n",
    "    X.append(value)\n",
    "    v_value = veracity_values.get(key)\n",
    "    Y.append(v_value)\n",
    "\n",
    "X = np.array(X)\n",
    "print(\"X : \",X.shape)\n",
    "Y = np.array(Y)\n",
    "print(\"Y : \",Y.shape)\n",
    "\n",
    "pprint.pprint(X[:5])"
   ]
  },
  {
   "cell_type": "markdown",
   "id": "8df112d0-6722-4652-b7ed-a2435805abf3",
   "metadata": {
    "editable": true,
    "slideshow": {
     "slide_type": ""
    },
    "tags": []
   },
   "source": [
    "## Create and Train a TensorFlow Model"
   ]
  },
  {
   "cell_type": "code",
   "execution_count": null,
   "id": "da657840-daeb-4b83-a691-bc5ad60f16ec",
   "metadata": {},
   "outputs": [],
   "source": []
  }
 ],
 "metadata": {
  "kernelspec": {
   "display_name": "Python 3 (ipykernel)",
   "language": "python",
   "name": "python3"
  },
  "language_info": {
   "codemirror_mode": {
    "name": "ipython",
    "version": 3
   },
   "file_extension": ".py",
   "mimetype": "text/x-python",
   "name": "python",
   "nbconvert_exporter": "python",
   "pygments_lexer": "ipython3",
   "version": "3.10.15"
  }
 },
 "nbformat": 4,
 "nbformat_minor": 5
}
