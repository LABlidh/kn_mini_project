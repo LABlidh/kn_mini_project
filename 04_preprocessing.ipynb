{
 "cells": [
  {
   "cell_type": "markdown",
   "metadata": {},
   "source": [
    "Use of the Training Data File\n",
    "The training data file is used to train a fact-checking engine. Here's how it fits into the overall project:\n",
    "\n",
    "Feature Extraction: The RDF statements are parsed to extract features for the machine learning model. Features can include the subject, predicate, object, and their relationships.\n",
    "\n",
    "Model Training: The extracted features and their corresponding truth values (1.0 for true, 0.0 for false) are used to train a machine learning model. The model learns to predict the veracity of new facts based on the patterns it observes in the training data.\n",
    "\n",
    "Evaluation: The trained model is evaluated on a separate test dataset to ensure it generalizes well to unseen data. The goal is to achieve a high ROC AUC score, indicating the model's ability to correctly classify true and false facts.\n",
    "\n",
    "Fact Checking: Once trained, the model can be used to check the veracity of new facts. For each input fact, the model outputs a veracity value between 0 (false) and 1 (true)."
   ]
  }
 ],
 "metadata": {
  "language_info": {
   "name": "python"
  }
 },
 "nbformat": 4,
 "nbformat_minor": 2
}
