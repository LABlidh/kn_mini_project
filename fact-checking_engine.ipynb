{
 "cells": [
  {
   "cell_type": "markdown",
   "metadata": {},
   "source": [
    "## Imports"
   ]
  },
  {
   "cell_type": "code",
   "execution_count": 82,
   "metadata": {},
   "outputs": [],
   "source": [
    "from rdflib import Graph, URIRef \n",
    "from collections import defaultdict \n",
    "from SPARQLWrapper import SPARQLWrapper, JSON"
   ]
  },
  {
   "cell_type": "markdown",
   "metadata": {},
   "source": [
    "## Load data"
   ]
  },
  {
   "cell_type": "code",
   "execution_count": 83,
   "metadata": {},
   "outputs": [
    {
     "data": {
      "text/plain": [
       "<Graph identifier=N3be61a67a6ef4ef2af6ec1c335368bd6 (<class 'rdflib.graph.Graph'>)>"
      ]
     },
     "execution_count": 83,
     "metadata": {},
     "output_type": "execute_result"
    }
   ],
   "source": [
    "# Load reference knowledge graph\n",
    "reference_kg = Graph()\n",
    "reference_kg.parse(\"data/reference-kg.nt\", format=\"nt\")\n",
    "# or: \n",
    "sparql = SPARQLWrapper(\"https://fokgsw.data.dice-research.org/sparql\")\n",
    "\n",
    "# Load training data\n",
    "train_data = Graph()\n",
    "train_data.parse(\"data/fokg-sw-train-2024.nt\", format=\"nt\")\n",
    "\n",
    "# Load test data\n",
    "test_data = Graph()\n",
    "test_data.parse(\"data/fokg-sw-test-2024.nt\", format=\"nt\")\n",
    "\n",
    "# Load class hierarchy\n",
    "class_hierarchy = Graph()\n",
    "class_hierarchy.parse(\"data/classHierarchy.nt\", format=\"nt\")\n",
    "\n",
    "# Load test data short (just for now, can be deleted later)\n",
    "test_data_short = Graph()\n",
    "test_data_short.parse(\"data/test-data-short.nt\", format=\"nt\")"
   ]
  },
  {
   "cell_type": "markdown",
   "metadata": {},
   "source": [
    "## Split triples to facts"
   ]
  },
  {
   "cell_type": "code",
<<<<<<< HEAD
   "execution_count": null,
=======
   "execution_count": 84,
>>>>>>> ea55782 (fact checking start)
   "metadata": {},
   "outputs": [],
   "source": [
    "def triples_to_facts(data):\n",
<<<<<<< HEAD
    "    facts = defaultdict(lambda: {'type': None, 'subject': None, 'predicate': None, 'object': None, 'veracity': None})\n",
=======
    "    facts = defaultdict(lambda: {'type': None, 'subject': None, 'predicate': None, 'object': None})\n",
>>>>>>> ea55782 (fact checking start)
    "    for s, p, o in data:\n",
    "        if p == URIRef(\"http://www.w3.org/1999/02/22-rdf-syntax-ns#type\"):\n",
    "            facts[s]['type'] = o\n",
    "        elif p == URIRef(\"http://www.w3.org/1999/02/22-rdf-syntax-ns#subject\"):\n",
    "            facts[s]['subject'] = o\n",
    "        elif p == URIRef(\"http://www.w3.org/1999/02/22-rdf-syntax-ns#predicate\"):\n",
    "            facts[s]['predicate'] = o\n",
    "        elif p == URIRef(\"http://www.w3.org/1999/02/22-rdf-syntax-ns#object\"):\n",
    "            facts[s]['object'] = o\n",
    "        elif p == URIRef(\"http://swc2017.aksw.org/hasTruthValue\"): \n",
    "            facts[s]['veracity'] = float(o)\n",
    "    return facts"
   ]
  },
  {
   "cell_type": "markdown",
   "metadata": {},
   "source": [
<<<<<<< HEAD
    "## Learn patterns from training data\n",
    "\n",
    "Maybe this is not even usefull for or set of data. Maybe delete"
=======
    "## Learn patterns from training data"
>>>>>>> ea55782 (fact checking start)
   ]
  },
  {
   "cell_type": "code",
<<<<<<< HEAD
   "execution_count": null,
   "metadata": {},
   "outputs": [
    {
     "data": {
      "text/plain": [
       "1000"
      ]
     },
     "execution_count": 89,
     "metadata": {},
     "output_type": "execute_result"
    }
   ],
=======
   "execution_count": 85,
   "metadata": {},
   "outputs": [],
>>>>>>> ea55782 (fact checking start)
   "source": [
    "def learn_patterns(train_data):\n",
    "    veracity_count = defaultdict(lambda: [0, 0])  # [true count, false count]\n",
    "    facts = triples_to_facts(train_data) \n",
<<<<<<< HEAD
    "    for fact_uri, details in facts.items():\n",
=======
    "    for fact_uri, details in facts.items(): \n",
>>>>>>> ea55782 (fact checking start)
    "        sp_o = (details['subject'], details['predicate'], details['object']) \n",
    "        if details['veracity'] is not None: \n",
    "            veracity_count[sp_o][int(details['veracity'])] += 1 \n",
    "    return veracity_count\n",
    "\n",
    "patterns = learn_patterns(train_data) "
   ]
  },
  {
   "cell_type": "markdown",
   "metadata": {},
   "source": [
    "## Check a given fact"
   ]
  },
  {
   "cell_type": "code",
<<<<<<< HEAD
   "execution_count": null,
=======
   "execution_count": 86,
>>>>>>> ea55782 (fact checking start)
   "metadata": {},
   "outputs": [],
   "source": [
    "def check_fact(fact):\n",
    "    s, p, o = fact  # Unpack the fact into subject, predicate, and object\n",
    "\n",
    "    # Step 1: Using the reference knowledge graph\n",
    "    print(f\"Reference knowledge graph\")\n",
    "    # Check if the fact is directly supported by the reference knowledge graph\n",
    "    ref_facts = list(reference_kg.triples((s, p, o)))\n",
    "    if ref_facts:\n",
    "        print(f\"Fact supported directly: veracity = 1\")\n",
    "        veracity_score = 1.0\n",
    "    else:\n",
    "        print(f\"Fact not supported directly: veracity = 0\")\n",
    "        veracity_score = 0.0\n",
    "    print(f\"Veracity after checking reference knowledge graph: {veracity_score}\\n\")\n",
    "\n",
    "    # Maybe check it there is a path beween the two?\n",
    "    # See Video\n",
    "\n",
    "    # Step 2: Use the patterns from the training data to adjust the veracity score\n",
    "    # just an idea: how about llm here or something like that?\n",
    "    print(f\"Training data\")\n",
    "    pattern_key = (s, p, o)\n",
    "    if pattern_key in patterns:\n",
    "        print(f\"Pattern found in training data\")\n",
    "        true_count, false_count = patterns[pattern_key]\n",
    "        if true_count + false_count > 0:\n",
    "            veracity_score = true_count / (true_count + false_count)\n",
<<<<<<< HEAD
    "    else:\n",
    "        print(f\"Pattern not found in training data\")\n",
=======
>>>>>>> ea55782 (fact checking start)
    "    print(f\"Adjusted veracity after checking patterns from the training data: {veracity_score}\\n\")\n",
    "\n",
    "    # Step 3: Use the class hierarchy to adjust the veracity score\n",
    "    print(f\"Class hierarchy\")\n",
    "    class_type = list(reference_kg.triples((s, URIRef(\"http://www.w3.org/1999/02/22-rdf-syntax-ns#type\"), None)))\n",
    "    if class_type:\n",
<<<<<<< HEAD
    "        print(f\"Class type found in class hierarchy\")\n",
=======
>>>>>>> ea55782 (fact checking start)
    "        class_type = class_type[0][2]\n",
    "        parent_classes = list(class_hierarchy.transitive_objects(class_type, URIRef(\"http://www.w3.org/2000/01/rdf-schema#subClassOf\")))\n",
    "        # Example logic to adjust veracity based on class hierarchy\n",
    "        if parent_classes:\n",
    "            veracity_score += 0.1  # Example: Boost veracity for known parent classes\n",
<<<<<<< HEAD
    "        # This is bad i think, it should not be +0.1 just like that\n",
    "    else: \n",
    "        print(f\"Class type not found in class hierarchy\")\n",
    "    print(f\"Adjusted veracity after using class hierarchy: {veracity_score}\\n\")\n",
    "\n",
    "    # Cut\n",
    "    if veracity_score > 1.0:\n",
    "        veracity_score = 1.0\n",
    "    elif veracity_score < 0.0:\n",
    "        veracity_score = 0.0\n",
    "\n",
=======
    "    print(f\"Adjusted veracity after using class hierarchy: {veracity_score}\\n\")\n",
    "\n",
>>>>>>> ea55782 (fact checking start)
    "    return veracity_score\n"
   ]
  },
  {
   "cell_type": "markdown",
   "metadata": {},
   "source": [
    "## Iterate through test data, calculate veracity for each and write it into a result file"
   ]
  },
  {
   "cell_type": "code",
<<<<<<< HEAD
   "execution_count": 95,
=======
   "execution_count": 87,
>>>>>>> ea55782 (fact checking start)
   "metadata": {},
   "outputs": [
    {
     "name": "stdout",
     "output_type": "stream",
     "text": [
      "Fact 1/6:\n",
      "Fact URI: http://dice-research.org/data/fb15k-237.ttl#23\n",
      "Type: http://www.w3.org/1999/02/22-rdf-syntax-ns#Statement\n",
      "Subject: http://rdf.freebase.com/ns/m.0k4gf\n",
      "Predicate: http://rdf.freebase.com/ns/people.person.profession\n",
      "Object: http://rdf.freebase.com/ns/m.01c72t\n",
      "\n",
      "Reference knowledge graph\n",
      "Fact not supported directly: veracity = 0\n",
      "Veracity after checking reference knowledge graph: 0.0\n",
      "\n",
      "Training data\n",
<<<<<<< HEAD
      "Pattern not found in training data\n",
      "Adjusted veracity after checking patterns from the training data: 0.0\n",
      "\n",
      "Class hierarchy\n",
      "Class type found in class hierarchy\n",
=======
      "Adjusted veracity after checking patterns from the training data: 0.0\n",
      "\n",
      "Class hierarchy\n",
>>>>>>> ea55782 (fact checking start)
      "Adjusted veracity after using class hierarchy: 0.1\n",
      "\n",
      "Veracity: 0.1 \n",
      "\n",
      "Fact 2/6:\n",
      "Fact URI: http://dice-research.org/data/fb15k-237.ttl#3\n",
      "Type: http://www.w3.org/1999/02/22-rdf-syntax-ns#Statement\n",
      "Subject: http://rdf.freebase.com/ns/m.0y_9q\n",
      "Predicate: http://rdf.freebase.com/ns/film.film.genre\n",
      "Object: http://rdf.freebase.com/ns/m.04cb4x\n",
      "\n",
      "Reference knowledge graph\n",
      "Fact not supported directly: veracity = 0\n",
      "Veracity after checking reference knowledge graph: 0.0\n",
      "\n",
      "Training data\n",
<<<<<<< HEAD
      "Pattern not found in training data\n",
      "Adjusted veracity after checking patterns from the training data: 0.0\n",
      "\n",
      "Class hierarchy\n",
      "Class type found in class hierarchy\n",
=======
      "Adjusted veracity after checking patterns from the training data: 0.0\n",
      "\n",
      "Class hierarchy\n",
>>>>>>> ea55782 (fact checking start)
      "Adjusted veracity after using class hierarchy: 0.1\n",
      "\n",
      "Veracity: 0.1 \n",
      "\n",
      "Fact 3/6:\n",
      "Fact URI: http://dice-research.org/data/fb15k-237.ttl#13\n",
      "Type: http://www.w3.org/1999/02/22-rdf-syntax-ns#Statement\n",
      "Subject: http://rdf.freebase.com/ns/m.0g72r\n",
      "Predicate: http://rdf.freebase.com/ns/people.person.nationality\n",
      "Object: http://rdf.freebase.com/ns/m.09c7w0\n",
      "\n",
      "Reference knowledge graph\n",
      "Fact not supported directly: veracity = 0\n",
      "Veracity after checking reference knowledge graph: 0.0\n",
      "\n",
      "Training data\n",
<<<<<<< HEAD
      "Pattern not found in training data\n",
      "Adjusted veracity after checking patterns from the training data: 0.0\n",
      "\n",
      "Class hierarchy\n",
      "Class type found in class hierarchy\n",
=======
      "Adjusted veracity after checking patterns from the training data: 0.0\n",
      "\n",
      "Class hierarchy\n",
>>>>>>> ea55782 (fact checking start)
      "Adjusted veracity after using class hierarchy: 0.1\n",
      "\n",
      "Veracity: 0.1 \n",
      "\n",
      "Fact 4/6:\n",
      "Fact URI: http://dice-research.org/data/fb15k-237.ttl#25\n",
      "Type: http://www.w3.org/1999/02/22-rdf-syntax-ns#Statement\n",
      "Subject: http://rdf.freebase.com/ns/m.063hp4\n",
      "Predicate: http://rdf.freebase.com/ns/film.film.genre\n",
      "Object: http://rdf.freebase.com/ns/m.02l7c8\n",
      "\n",
      "Reference knowledge graph\n",
      "Fact not supported directly: veracity = 0\n",
      "Veracity after checking reference knowledge graph: 0.0\n",
      "\n",
      "Training data\n",
<<<<<<< HEAD
      "Pattern not found in training data\n",
      "Adjusted veracity after checking patterns from the training data: 0.0\n",
      "\n",
      "Class hierarchy\n",
      "Class type found in class hierarchy\n",
=======
      "Adjusted veracity after checking patterns from the training data: 0.0\n",
      "\n",
      "Class hierarchy\n",
>>>>>>> ea55782 (fact checking start)
      "Adjusted veracity after using class hierarchy: 0.1\n",
      "\n",
      "Veracity: 0.1 \n",
      "\n",
      "Fact 5/6:\n",
      "Fact URI: http://dice-research.org/data/fb15k-237.ttl#18\n",
      "Type: http://www.w3.org/1999/02/22-rdf-syntax-ns#Statement\n",
      "Subject: http://rdf.freebase.com/ns/m.0xhtw\n",
      "Predicate: http://rdf.freebase.com/ns/music.genre.artists\n",
      "Object: http://rdf.freebase.com/ns/m.01mwsnc\n",
      "\n",
      "Reference knowledge graph\n",
      "Fact not supported directly: veracity = 0\n",
      "Veracity after checking reference knowledge graph: 0.0\n",
      "\n",
      "Training data\n",
<<<<<<< HEAD
      "Pattern not found in training data\n",
      "Adjusted veracity after checking patterns from the training data: 0.0\n",
      "\n",
      "Class hierarchy\n",
      "Class type found in class hierarchy\n",
=======
      "Adjusted veracity after checking patterns from the training data: 0.0\n",
      "\n",
      "Class hierarchy\n",
>>>>>>> ea55782 (fact checking start)
      "Adjusted veracity after using class hierarchy: 0.1\n",
      "\n",
      "Veracity: 0.1 \n",
      "\n",
      "Fact 6/6:\n",
      "Fact URI: http://dice-research.org/data/fb15k-237.ttl#5\n",
      "Type: http://www.w3.org/1999/02/22-rdf-syntax-ns#Statement\n",
      "Subject: http://rdf.freebase.com/ns/m.0342h\n",
      "Predicate: http://rdf.freebase.com/ns/music.instrument.instrumentalists\n",
      "Object: http://rdf.freebase.com/ns/m.01vrnsk\n",
      "\n",
      "Reference knowledge graph\n",
      "Fact not supported directly: veracity = 0\n",
      "Veracity after checking reference knowledge graph: 0.0\n",
      "\n",
      "Training data\n",
<<<<<<< HEAD
      "Pattern not found in training data\n",
      "Adjusted veracity after checking patterns from the training data: 0.0\n",
      "\n",
      "Class hierarchy\n",
      "Class type found in class hierarchy\n",
=======
      "Adjusted veracity after checking patterns from the training data: 0.0\n",
      "\n",
      "Class hierarchy\n",
>>>>>>> ea55782 (fact checking start)
      "Adjusted veracity after using class hierarchy: 0.1\n",
      "\n",
      "Veracity: 0.1 \n",
      "\n"
     ]
    }
   ],
   "source": [
    "with open(\"result.ttl\", \"w\") as resultFile:\n",
    "    test_facts = triples_to_facts(test_data_short)\n",
    "\n",
    "    for i, (fact_uri, fact) in enumerate(test_facts.items(), start=1):\n",
    "        print(f\"Fact {i}/{len(test_facts)}:\\nFact URI: {fact_uri}\\nType: {fact['type']}\\nSubject: {fact['subject']}\\nPredicate: {fact['predicate']}\\nObject: {fact['object']}\\n\")\n",
    "        \n",
    "        veracity_value = check_fact((fact['subject'], fact['predicate'], fact['object']))\n",
    "        print(f\"Veracity: {veracity_value} \\n\")\n",
    "        \n",
    "        line = f\"<{fact_uri}> <http://swc2017.aksw.org/hasTruthValue> \\\"{veracity_value}\\\"^^<http://www.w3.org/2001/XMLSchema#double> .\\n\"\n",
    "        resultFile.write(line)"
   ]
  }
 ],
 "metadata": {
  "kernelspec": {
   "display_name": "Python 3",
   "language": "python",
   "name": "python3"
  },
  "language_info": {
   "codemirror_mode": {
    "name": "ipython",
    "version": 3
   },
   "file_extension": ".py",
   "mimetype": "text/x-python",
   "name": "python",
   "nbconvert_exporter": "python",
   "pygments_lexer": "ipython3",
   "version": "3.12.0"
  }
 },
 "nbformat": 4,
 "nbformat_minor": 2
}
