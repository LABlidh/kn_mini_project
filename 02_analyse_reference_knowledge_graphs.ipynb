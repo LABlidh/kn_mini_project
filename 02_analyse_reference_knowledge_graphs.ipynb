{
 "cells": [
  {
   "cell_type": "markdown",
   "metadata": {},
   "source": [
    "# Dump file, reference knowledge graphs\n",
    "Contains RDF triples that descibe relationships and attributes of various entities.\n",
    "\n",
    "## Use\n",
    "The dump file provides a reference knowledge graph. The fact-checking engine will use this graph to verify the veracity of statements by querying these relationships and attributes. For instance, if the fact-checking engine encounters a fact, it can check the dump file to see if a similar fact exists and what attributes or relationships are associated with it.\n",
    "\n",
    "## Analyse / Playing around with the data"
   ]
  },
  {
   "cell_type": "code",
   "execution_count": 2,
   "metadata": {},
   "outputs": [],
   "source": [
    "import rdflib"
   ]
  },
  {
   "cell_type": "code",
   "execution_count": 3,
   "metadata": {},
   "outputs": [
    {
     "data": {
      "text/plain": [
       "<Graph identifier=Nf02215d54ef94a0ead596d879eaa8de1 (<class 'rdflib.graph.Graph'>)>"
      ]
     },
     "execution_count": 3,
     "metadata": {},
     "output_type": "execute_result"
    }
   ],
   "source": [
    "g = rdflib.Graph()\n",
    "g.parse(\"data/reference-kg.nt\", format=\"nt\")\n"
   ]
  },
  {
   "cell_type": "markdown",
   "metadata": {},
   "source": [
    "SPARQL query to get all subjects, predicates, and objects"
   ]
  },
  {
   "cell_type": "code",
   "execution_count": 11,
   "metadata": {},
   "outputs": [
    {
     "name": "stdout",
     "output_type": "stream",
     "text": [
      "Subject: http://rdf.freebase.com/ns/m.013gwb, Predicate: http://www.w3.org/1999/02/22-rdf-syntax-ns#type, Object: http://rdf.freebase.com/ns/base.type_ontology.abstract\n",
      "Subject: http://rdf.freebase.com/ns/m.0gmtm, Predicate: http://www.w3.org/1999/02/22-rdf-syntax-ns#type, Object: http://rdf.freebase.com/ns/award.award_nominee\n",
      "Subject: http://rdf.freebase.com/ns/m.09lcsj, Predicate: http://rdf.freebase.com/ns/film.film.other_crew..film.film_crew_gig.film_crew_role, Object: http://rdf.freebase.com/ns/m.01pvkk\n",
      "Subject: http://rdf.freebase.com/ns/m.0b_6pv, Predicate: http://rdf.freebase.com/ns/base.marchmadness.ncaa_basketball_tournament.seeds..base.marchmadness.ncaa_tournament_seed.team, Object: http://rdf.freebase.com/ns/m.02pzy52\n",
      "Subject: http://rdf.freebase.com/ns/m.031ldd, Predicate: http://rdf.freebase.com/ns/film.film.release_date_s..film.film_regional_release_date.film_release_distribution_medium, Object: http://rdf.freebase.com/ns/m.029j_\n",
      "Subject: http://rdf.freebase.com/ns/user.chaswarner.default_domain.software_creator, Predicate: http://www.w3.org/2000/01/rdf-schema#subClassOf, Object: http://rdf.freebase.com/ns/user.uoa_it.uoa_it.uoa_vendor\n",
      "Subject: http://rdf.freebase.com/ns/m.024lff, Predicate: http://rdf.freebase.com/ns/film.film.other_crew..film.film_crew_gig.film_crew_role, Object: http://rdf.freebase.com/ns/m.01vx2h\n",
      "Subject: http://rdf.freebase.com/ns/m.0_xdd, Predicate: http://rdf.freebase.com/ns/location.hud_county_place.place, Object: http://rdf.freebase.com/ns/m.0_xdd\n",
      "Subject: http://rdf.freebase.com/ns/m.012vby, Predicate: http://rdf.freebase.com/ns/award.award_nominee.award_nominations..award.award_nomination.award, Object: http://rdf.freebase.com/ns/m.0gs9p\n",
      "Subject: http://rdf.freebase.com/ns/m.03f1zdw, Predicate: http://rdf.freebase.com/ns/award.award_nominee.award_nominations..award.award_nomination.award_nominee, Object: http://rdf.freebase.com/ns/m.03y_46\n"
     ]
    }
   ],
   "source": [
    "query = \"\"\"\n",
    "SELECT ?subject ?predicate ?object\n",
    "WHERE {\n",
    "  ?subject ?predicate ?object\n",
    "}\n",
    "GROUP BY ?subject\n",
    "LIMIT 10\n",
    "\"\"\"\n",
    "\n",
    "for row in g.query(query):\n",
    "    print(f\"Subject: {row.subject}, Predicate: {row.predicate}, Object: {row.object}\")\n"
   ]
  },
  {
   "cell_type": "code",
   "execution_count": 4,
   "metadata": {},
   "outputs": [
    {
     "name": "stdout",
     "output_type": "stream",
     "text": [
      "Predicate: http://rdf.freebase.com/ns/people.person.gender, Object: http://rdf.freebase.com/ns/m.05zppz\n",
      "Predicate: http://rdf.freebase.com/ns/people.person.places_lived..people.place_lived.location, Object: http://rdf.freebase.com/ns/m.0fpzwf\n",
      "Predicate: http://rdf.freebase.com/ns/people.person.place_of_birth, Object: http://rdf.freebase.com/ns/m.0fpzwf\n",
      "Predicate: http://rdf.freebase.com/ns/award.award_nominee.award_nominations..award.award_nomination.award_nominee, Object: http://rdf.freebase.com/ns/m.06s6hs\n",
      "Predicate: http://rdf.freebase.com/ns/award.award_nominee.award_nominations..award.award_nomination.award_nominee, Object: http://rdf.freebase.com/ns/m.01_njt\n",
      "Predicate: http://rdf.freebase.com/ns/award.award_nominee.award_nominations..award.award_nomination.award_nominee, Object: http://rdf.freebase.com/ns/m.09f0bj\n",
      "Predicate: http://rdf.freebase.com/ns/award.award_nominee.award_nominations..award.award_nomination.award_nominee, Object: http://rdf.freebase.com/ns/m.0k2mxq\n",
      "Predicate: http://rdf.freebase.com/ns/award.award_nominee.award_nominations..award.award_nomination.award_nominee, Object: http://rdf.freebase.com/ns/m.05np4c\n",
      "Predicate: http://rdf.freebase.com/ns/award.award_nominee.award_nominations..award.award_nomination.award_nominee, Object: http://rdf.freebase.com/ns/m.06czyr\n",
      "Predicate: http://rdf.freebase.com/ns/award.award_nominee.award_nominations..award.award_nomination.award_nominee, Object: http://rdf.freebase.com/ns/m.08m4c8\n"
     ]
    }
   ],
   "source": [
    "query = \"\"\"\n",
    "SELECT ?predicate ?object\n",
    "WHERE {\n",
    "  <http://rdf.freebase.com/ns/m.066m4g> ?predicate ?object\n",
    "}\n",
    "LIMIT 10\n",
    "\"\"\"\n",
    "\n",
    "for row in g.query(query):\n",
    "    print(f\"Predicate: {row.predicate}, Object: {row.object}\")\n"
   ]
  }
 ],
 "metadata": {
  "kernelspec": {
   "display_name": "Python 3",
   "language": "python",
   "name": "python3"
  },
  "language_info": {
   "codemirror_mode": {
    "name": "ipython",
    "version": 3
   },
   "file_extension": ".py",
   "mimetype": "text/x-python",
   "name": "python",
   "nbconvert_exporter": "python",
   "pygments_lexer": "ipython3",
   "version": "3.12.8"
  }
 },
 "nbformat": 4,
 "nbformat_minor": 2
}
