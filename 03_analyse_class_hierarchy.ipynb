{
 "cells": [
  {
   "cell_type": "markdown",
   "metadata": {},
   "source": [
    "# Class hierarchy\n",
    "Contains RDF triples that describe subclass relationships between various entities.<br>\n",
    "Pattern: `<subject> <http://www.w3.org/2000/01/rdf-schema#subClassOf> <object>`\n",
    "\n",
    "## Use\n",
    "Use subclass relationships to enrich the features of facts being checked. For example, if verifying a fact about a famous object, you might consider its relationships to other higher-level classes. <br>\n",
    "Infer additional properties and relationships by traversing the class hierarchy. For example, if an entity is a subclass of multiple higher-level classes, this might affect the veracity score of a fact involving that entity.\n",
    "\n",
    "## Analyse / Playing around with the data"
   ]
  }
 ],
 "metadata": {
  "language_info": {
   "name": "python"
  }
 },
 "nbformat": 4,
 "nbformat_minor": 2
}
